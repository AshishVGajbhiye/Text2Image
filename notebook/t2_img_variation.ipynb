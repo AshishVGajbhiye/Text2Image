{
 "cells": [
  {
   "cell_type": "code",
   "execution_count": 2,
   "metadata": {},
   "outputs": [],
   "source": [
    "import os\n",
    "import openai\n",
    "from pathlib import Path\n",
    "from dotenv import load_dotenv\n",
    "openai.api_key = os.getenv(\"OPENAI_API_KEY\")"
   ]
  },
  {
   "cell_type": "code",
   "execution_count": 8,
   "metadata": {},
   "outputs": [],
   "source": [
    "input_image=Path(\"../Outcome/kurtcobain_2.png\")\n",
    "\n",
    "with open(input_image, \"rb\",) as input_file:\n",
    "    our_image=input_file.read()"
   ]
  },
  {
   "cell_type": "code",
   "execution_count": 12,
   "metadata": {},
   "outputs": [
    {
     "data": {
      "text/plain": [
       "ImagesResponse(created=1708587492, data=[Image(b64_json=None, revised_prompt=None, url='https://oaidalleapiprodscus.blob.core.windows.net/private/org-bXwb2IgfJKxPfPi49BURn6ij/user-YmTECShh0xEEL9ON2sKzP74E/img-R9vcZrZXngpfn6YcLfLLLyAQ.png?st=2024-02-22T06%3A38%3A12Z&se=2024-02-22T08%3A38%3A12Z&sp=r&sv=2021-08-06&sr=b&rscd=inline&rsct=image/png&skoid=6aaadede-4fb3-4698-a8f6-684d7786b067&sktid=a48cca56-e6da-484e-a814-9c849652bcb3&skt=2024-02-21T10%3A27%3A28Z&ske=2024-02-22T10%3A27%3A28Z&sks=b&skv=2021-08-06&sig=ty/Y8oLbLP/37fenBpjX6PivjuHbYhFv75B9efShwHk%3D'), Image(b64_json=None, revised_prompt=None, url='https://oaidalleapiprodscus.blob.core.windows.net/private/org-bXwb2IgfJKxPfPi49BURn6ij/user-YmTECShh0xEEL9ON2sKzP74E/img-i1i2pgaz88Dn7nKVcQs7IVbp.png?st=2024-02-22T06%3A38%3A11Z&se=2024-02-22T08%3A38%3A11Z&sp=r&sv=2021-08-06&sr=b&rscd=inline&rsct=image/png&skoid=6aaadede-4fb3-4698-a8f6-684d7786b067&sktid=a48cca56-e6da-484e-a814-9c849652bcb3&skt=2024-02-21T10%3A27%3A28Z&ske=2024-02-22T10%3A27%3A28Z&sks=b&skv=2021-08-06&sig=9/3cZnYfXAJMac/sFvS5y%2BhDNNiqbRyS/jvsLiRYo4Y%3D')])"
      ]
     },
     "execution_count": 12,
     "metadata": {},
     "output_type": "execute_result"
    }
   ],
   "source": [
    "N=2\n",
    "response = openai.images.create_variation(\n",
    "  image=our_image,\n",
    "  n=N,\n",
    "  size=\"1024x1024\"\n",
    ")\n",
    "response\n",
    "#image_url = response.data[0].url"
   ]
  },
  {
   "cell_type": "code",
   "execution_count": 13,
   "metadata": {},
   "outputs": [
    {
     "name": "stdout",
     "output_type": "stream",
     "text": [
      "https://oaidalleapiprodscus.blob.core.windows.net/private/org-bXwb2IgfJKxPfPi49BURn6ij/user-YmTECShh0xEEL9ON2sKzP74E/img-R9vcZrZXngpfn6YcLfLLLyAQ.png?st=2024-02-22T06%3A38%3A12Z&se=2024-02-22T08%3A38%3A12Z&sp=r&sv=2021-08-06&sr=b&rscd=inline&rsct=image/png&skoid=6aaadede-4fb3-4698-a8f6-684d7786b067&sktid=a48cca56-e6da-484e-a814-9c849652bcb3&skt=2024-02-21T10%3A27%3A28Z&ske=2024-02-22T10%3A27%3A28Z&sks=b&skv=2021-08-06&sig=ty/Y8oLbLP/37fenBpjX6PivjuHbYhFv75B9efShwHk%3D\n",
      "https://oaidalleapiprodscus.blob.core.windows.net/private/org-bXwb2IgfJKxPfPi49BURn6ij/user-YmTECShh0xEEL9ON2sKzP74E/img-i1i2pgaz88Dn7nKVcQs7IVbp.png?st=2024-02-22T06%3A38%3A11Z&se=2024-02-22T08%3A38%3A11Z&sp=r&sv=2021-08-06&sr=b&rscd=inline&rsct=image/png&skoid=6aaadede-4fb3-4698-a8f6-684d7786b067&sktid=a48cca56-e6da-484e-a814-9c849652bcb3&skt=2024-02-21T10%3A27%3A28Z&ske=2024-02-22T10%3A27%3A28Z&sks=b&skv=2021-08-06&sig=9/3cZnYfXAJMac/sFvS5y%2BhDNNiqbRyS/jvsLiRYo4Y%3D\n"
     ]
    }
   ],
   "source": [
    "import requests\n",
    "dirpath= Path(\"../Outcome\")\n",
    "dirpath.mkdir(exist_ok=True)\n",
    "\n",
    "for idx in range(N):\n",
    "    image_url=response.data[idx].url\n",
    "    print(image_url)\n",
    "\n",
    "req_response = requests.get(url=image_url,timeout=10)\n",
    "\n",
    "prompt_outcome_filepath = dirpath/f\"kurt_{idx}.png\"\n",
    "\n",
    "if req_response.status_code == 200:\n",
    "    with open(prompt_outcome_filepath, \"wb\") as output:\n",
    "        output.write(req_response.content)\n",
    "else:\n",
    "    req_response.raise_for_status()"
   ]
  }
 ],
 "metadata": {
  "kernelspec": {
   "display_name": "txtimage",
   "language": "python",
   "name": "python3"
  },
  "language_info": {
   "codemirror_mode": {
    "name": "ipython",
    "version": 3
   },
   "file_extension": ".py",
   "mimetype": "text/x-python",
   "name": "python",
   "nbconvert_exporter": "python",
   "pygments_lexer": "ipython3",
   "version": "3.9.18"
  }
 },
 "nbformat": 4,
 "nbformat_minor": 2
}
